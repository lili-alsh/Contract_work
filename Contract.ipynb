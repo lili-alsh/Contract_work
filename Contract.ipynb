{
  "nbformat": 4,
  "nbformat_minor": 0,
  "metadata": {
    "colab": {
      "name": "Contract.ipynb",
      "provenance": [],
      "collapsed_sections": [],
      "include_colab_link": true
    },
    "kernelspec": {
      "name": "python3",
      "display_name": "Python 3"
    }
  },
  "cells": [
    {
      "cell_type": "markdown",
      "metadata": {
        "id": "view-in-github",
        "colab_type": "text"
      },
      "source": [
        "<a href=\"https://colab.research.google.com/github/lili-alsh/Contract_work/blob/master/Contract.ipynb\" target=\"_parent\"><img src=\"https://colab.research.google.com/assets/colab-badge.svg\" alt=\"Open In Colab\"/></a>"
      ]
    },
    {
      "cell_type": "markdown",
      "metadata": {
        "id": "VZa_9ti-ofPj"
      },
      "source": [
        "# Эта часть проверяет файл выгрузки события по договорам (БИТ), все ли поля правильно заполнены. \n",
        "## Выводит список событий договоров, которые заполнены не корректно."
      ]
    },
    {
      "cell_type": "code",
      "metadata": {
        "id": "TgB-iJeB3rMU"
      },
      "source": [
        "fields = ['Дата', 'Проект договора / Договор контрагента', 'Событие договора (БИТ).Проект договора / Договор контрагента.Тип договора',\n",
        "          'Событие договора (БИТ).Проект договора / Договор контрагента.Код',\t'Контрагент','Событие договора (БИТ).Проект договора / Договор контрагента.Описание работ',\n",
        "          'Событие договора (БИТ).Проект договора / Договор контрагента.Предмет договора',\t'Событие договора (БИТ).Проект договора / Договор контрагента.Сумма договора',\n",
        "          'Событие договора (БИТ).Проект договора / Договор контрагента.Валюта',\t'Событие договора (БИТ).Проект договора / Договор контрагента.Подразделение-инициатор',\n",
        "          'Событие договора (БИТ).Проект договора / Договор контрагента.Срок действия',\t'Событие договора (БИТ).Проект договора / Договор контрагента.Вид расчетов',\n",
        "          'Событие договора (БИТ).Порядок выполнения',\t'Вид события', 'Событие договора (БИТ).Кол-во дней  после выполнения', 'Тип дней', 'Событие договора (БИТ).Процент',\n",
        "          'Событие договора (БИТ).Сумма',\t'Комментарий',\t'Событие договора (БИТ).Проект договора / Договор контрагента.Стадия договора', 'Событие договора (БИТ).Дата выполнения']"
      ],
      "execution_count": null,
      "outputs": []
    },
    {
      "cell_type": "code",
      "metadata": {
        "id": "zDbF60t-8CZr"
      },
      "source": [
        "import pandas as pd\n",
        "\n",
        "#Читаем файл выгрузки с договорами\n",
        "data = pd.read_excel(\"/content/Выгрузка договоров.xlsx\")\n",
        "\n",
        "type_pmnt_to_date = ['Предоплата до конкретной даты', 'Расчет до конкретной даты']\n",
        "type_pmnt_sched = ['Расчет по графику платежей']\n",
        "req_adds = ['Оплата по договору', 'Спецификация / Приложение/ Заявка необходимы']\n",
        "data = data[(data[fields[2]].isna()) |\n",
        "            (data[fields[6]].isna()) |\n",
        "            # ((data[fields[10]].isna()) & (data[fields[11]].isna())) |\n",
        "            ((~data[fields[10]].isna()) & (~data[fields[11]].isna())) |\n",
        "            ((~data[fields[13]].isin(type_pmnt_sched)) & (~data[fields[13]].isin(type_pmnt_to_date)) \n",
        "            & (data[fields[14]].isna())) | \n",
        "            ((data[fields[13]].isin(type_pmnt_to_date)) & (data[fields[20]].isna())) |\n",
        "            ((~data[fields[14]].isna()) & (~data[fields[20]].isna())) |\n",
        "            ((data[fields[16]].isna()) & (data[fields[17]].isna()) & (~data[fields[13]].isin(type_pmnt_sched))) |\n",
        "            ((~data[fields[16]].isna()) & (~data[fields[17]].isna())) |\n",
        "            (data[fields[18]].isna()) | (data[fields[19]].isna()) |\n",
        "            (data[fields[7]] == 10) | (~data[fields[18]].isin(req_adds))]\n",
        "data.to_excel('Договоры на проверку.xlsx', index=False)"
      ],
      "execution_count": null,
      "outputs": []
    },
    {
      "cell_type": "markdown",
      "metadata": {
        "id": "gGmQombCyeSl"
      },
      "source": [
        "# ПОСЛЕ УСТРАНЕНИЯ НЕВЕРНОГО ЗАПОЛНЕНИЯ Событий договора (БИТ) выводим список договоров с поставщиками к закрытию."
      ]
    },
    {
      "cell_type": "code",
      "metadata": {
        "id": "uHMHPS9HpUbS"
      },
      "source": [
        "import pandas as pd\n",
        "from datetime import datetime\n",
        "\n",
        "# Читаем файл выгрузки с договорами\n",
        "data = pd.read_excel(\"/content/Выгрузка договоров.xlsx\")\n",
        "\n",
        "# Берем текущую дату\n",
        "curr_date = datetime.now()\n",
        "# Приводим к формату даты\n",
        "date = pd.to_datetime(data[fields[10]], dayfirst=True)\n",
        "data[fields[10]] = date\n",
        "# Добавляем данные по незакрытым со сроком действия меньше текущей даты\n",
        "data_toclose = data[(data[fields[19]] != 'Закрыт') &\n",
        "            (data[fields[10]] < curr_date)]\n",
        "# Убираем дубли\n",
        "data_toclose = data_toclose.drop_duplicates(subset=[fields[3]])\n",
        "\n",
        "type_cntr_suplly = ['Договор подряда или возмездного оказания услуг (расходный)', 'Договор купли-продажи (расходный)',\n",
        "                    'Договор-счет, оферта (не требует подписания)', 'Договор аренды']\n",
        "\n",
        "# Данные для закрытия договоров с поставщиками\n",
        "data_supply = data_toclose[data_toclose[fields[2]].isin(type_cntr_suplly)]\n",
        "\n",
        "# Берем данные по договорам с поставщиками, которые будем сравнивать с ОСВ\n",
        "data_OSV = data[data[fields[2]].isin(type_cntr_suplly)]\n",
        "data_OSV = data_OSV[(data_OSV[fields[11]] == 'До момента исполнения обязательств') & (data_OSV[fields[19]] != 'Закрыт')]\n",
        "# Читаем файл выгрузки ОСВ\n",
        "OSV_60 = pd.read_excel(\"/content/ОСВ 60.xlsx\")\n",
        "OSV_76 = pd.read_excel(\"/content/ОСВ 76.xlsx\")\n",
        "OSV = OSV_60.merge(OSV_76, how = 'outer')\n",
        "# Объединяем файл с ОСВ\n",
        "data_turn = data_OSV.merge(OSV, how = 'left', left_on=fields[3],right_on='Договоры_Код')\n",
        "# Выбираем договоры, по которым нулевое сальдо на конец\n",
        "data_turn = data_turn[(data_turn['Сальдо_Дебет'].isna()) & (data_turn['Сальдо_Кредит'].isna())] \n",
        "\n",
        "# Выбираем договоры, по которым сумма оборотов за период больше или равна сумме договора\n",
        "data_turn = data_turn[(data_turn['Обороты за период_Дебет'] > data_turn[fields[7]]) | \n",
        "                      (data_turn['Обороты за период_Дебет'] == data_turn[fields[7]])]\n",
        "# Убираем дубли\n",
        "data_turn = data_turn.drop_duplicates(subset=[fields[3]])\n",
        "# Убираем лишние столбцы\n",
        "data_turn = data_turn.drop(columns=['Договоры_Код', 'Обороты за период_Дебет', 'Обороты за период_Кредит', 'Сальдо_Дебет', 'Сальдо_Кредит'])\n",
        "\n",
        "# Объединяем договоры для закрытия по поставщикам\n",
        "data_close = data_supply.merge(data_turn, how = 'outer')\n",
        "\n",
        "# Сохраняем файл\n",
        "data_close.to_excel('Договоры с поставщиками для закрытия.xlsx', index=False)"
      ],
      "execution_count": null,
      "outputs": []
    },
    {
      "cell_type": "markdown",
      "metadata": {
        "id": "-g-_fOx5oIOc"
      },
      "source": [
        "# ПОСЛЕ УСТРАНЕНИЯ НЕВЕРНОГО ЗАПОЛНЕНИЯ Событий договора (БИТ) выводим список договоров с покупателями к закрытию."
      ]
    },
    {
      "cell_type": "code",
      "metadata": {
        "id": "sLdVlC-DFzJQ"
      },
      "source": [
        "import pandas as pd\n",
        "from datetime import datetime\n",
        "\n",
        "# Читаем файл выгрузки с договорами\n",
        "data = pd.read_excel(\"/content/Выгрузка договоров.xlsx\")\n",
        "\n",
        "# Берем текущую дату\n",
        "curr_date = datetime.now()\n",
        "# Приводим к формату даты\n",
        "date = pd.to_datetime(data[fields[10]], dayfirst=True)\n",
        "data[fields[10]] = date\n",
        "# Добавляем данные по незакрытым со сроком действия меньше текущей даты\n",
        "data_toclose = data[(data[fields[19]] != 'Закрыт') &\n",
        "            (data[fields[10]] < curr_date)]\n",
        "# Убираем дубли\n",
        "data_toclose = data_toclose.drop_duplicates(subset=[fields[3]])\n",
        "\n",
        "type_cntr_suplly = ['Договор подряда или возмездного оказания услуг (расходный)', 'Договор купли-продажи (расходный)',\n",
        "                    'Договор-счет, оферта (не требует подписания)', 'Договор аренды']\n",
        "\n",
        "# Данные для закрытия договоров с покупателями\n",
        "data_buy = data_toclose[~data_toclose[fields[2]].isin(type_cntr_suplly)]\n",
        "\n",
        "# Берем данные по договорам с покупателями, которые будем сравнивать с ОСВ\n",
        "data_OSV = data[~data[fields[2]].isin(type_cntr_suplly)]\n",
        "data_OSV = data_OSV[(data_OSV[fields[11]] == 'До момента исполнения обязательств') & (data_OSV[fields[19]] != 'Закрыт')]\n",
        "# Читаем файл выгрузки ОСВ\n",
        "OSV_62 = pd.read_excel(\"/content/ОСВ 62.xlsx\")\n",
        "OSV_76 = pd.read_excel(\"/content/ОСВ 76.xlsx\")\n",
        "OSV = OSV_62.merge(OSV_76, how = 'outer')\n",
        "# Объединяем файл с ОСВ\n",
        "data_turn = data_OSV.merge(OSV, how = 'left', left_on=fields[3],right_on='Договоры_Код')\n",
        "# Выбираем договоры, по которым нулевое сальдо на конец\n",
        "data_turn = data_turn[(data_turn['Сальдо_Дебет'].isna()) & (data_turn['Сальдо_Кредит'].isna())] \n",
        "\n",
        "# Выбираем договоры, по которым сумма оборотов за период больше или равна сумме договора\n",
        "data_turn = data_turn[(data_turn['Обороты за период_Дебет'] > data_turn[fields[7]]) | \n",
        "                      (data_turn['Обороты за период_Дебет'] == data_turn[fields[7]])]\n",
        "# Убираем дубли\n",
        "data_turn = data_turn.drop_duplicates(subset=[fields[3]])\n",
        "# Убираем лишние столбцы\n",
        "data_turn = data_turn.drop(columns=['Договоры_Код', 'Обороты за период_Дебет', 'Обороты за период_Кредит', 'Сальдо_Дебет', 'Сальдо_Кредит'])\n",
        "\n",
        "# Объединяем договоры для закрытия по покупателям\n",
        "data_close = data_buy.merge(data_turn, how = 'outer')\n",
        "\n",
        "# Сохраняем файл\n",
        "data_close.to_excel('Договоры с покупателями для закрытия.xlsx', index=False)"
      ],
      "execution_count": null,
      "outputs": []
    },
    {
      "cell_type": "markdown",
      "metadata": {
        "id": "3VBgUJM1oPkN"
      },
      "source": [
        "# ПОСЛЕ УСТРАНЕНИЯ НЕВЕРНОГО ЗАПОЛНЕНИЯ Событий договора (БИТ) выводим список договоров с прочими контрагентами дл закрытия"
      ]
    },
    {
      "cell_type": "code",
      "metadata": {
        "id": "XPbZiSOaffiX"
      },
      "source": [
        "import pandas as pd\n",
        "from datetime import datetime\n",
        "\n",
        "# Читаем файл выгрузки с договорами\n",
        "data = pd.read_excel(\"/content/Выгрузка всех договоров.xlsx\")\n",
        "\n",
        "data = data[(data['Вид договора']=='Прочее') &\n",
        "            (~data['Срок действия'].isna())]\n",
        "\n",
        "\n",
        "# Берем текущую дату\n",
        "curr_date = datetime.now()\n",
        "# Приводим к формату даты\n",
        "date = pd.to_datetime(data['Срок действия'], dayfirst=True)\n",
        "data['Срок действия'] = date\n",
        "\n",
        "# Добавляем данные по незакрытым со сроком действия меньше текущей даты\n",
        "data_close = data[(data['Стадия договора'] != 'Закрыт') &\n",
        "            (data['Срок действия'] < curr_date)]\n",
        "\n",
        "# Сохраняем файл\n",
        "data_close.to_excel('Договоры с прочими контрагентами для закрытия.xlsx', index=False)"
      ],
      "execution_count": null,
      "outputs": []
    },
    {
      "cell_type": "markdown",
      "metadata": {
        "id": "3IxA5-AJ1lRv"
      },
      "source": [
        "# ПОСЛЕ ЗАКРЫТИЯ договоров обновляем реестр поставщиков"
      ]
    },
    {
      "cell_type": "code",
      "metadata": {
        "id": "SezPffbaD6UC"
      },
      "source": [
        "import pandas as pd\n",
        "\n",
        "# Читаем файл выгрузки с договорами\n",
        "data = pd.read_excel(\"/content/Выгрузка договоров.xlsx\")\n",
        "inn = pd.read_excel(\"/content/Выгрузка всех договоров.xlsx\")\n",
        "\n",
        "type_cntr_suplly = ['Договор подряда или возмездного оказания услуг (расходный)', 'Договор купли-продажи (расходный)',\n",
        "                    'Договор-счет, оферта (не требует подписания)']\n",
        "exc_cntr = ['24/05/19 от 24.05.2019 поставка товаров','КУ1-001623 от 19.07.2018 поставка товаров', 'IH19052302-BTC от 10.04.2019 поставка кофе в капсулах и аксессуаров',\n",
        "            '37/2018 от 03.04.2018 поставка товаров (робототехника)', '17-00318893 от 18.12.2017 сублицензионный','12-03/17 ау от 12.03.2017',\n",
        "            '1 от 06.06.2018  услуги перевозки пассажиров (детей) ВРО 2018','7043-ЭО/14 от 23.07.2018 лицензионный договор']\n",
        "\n",
        "# Отбираем действующие договоры с поставщиками\n",
        "data = data[(data[fields[2]].isin(type_cntr_suplly)) &\n",
        "            (data[fields[19]] == 'Исполнение') & \n",
        "            (((data[fields[18]] == 'Оплата по договору') & (data[fields[7]].isna())) | \n",
        "            (data[fields[18]] == 'Спецификация / Приложение/ Заявка необходимы')) |\n",
        "            (data['Проект договора / Договор контрагента'].isin(exc_cntr))]\n",
        "\n",
        "# Убираем дубли\n",
        "data = data.drop_duplicates(subset=[fields[3]])\n",
        "\n",
        "# Читаем файл выгрузки реестра поставщиков\n",
        "reg = pd.read_excel(\"/content/Реестр поставщиков.xlsx\")\n",
        "\n",
        "# Обновляем срок действия в файле\n",
        "new_reg = reg.merge(data, how = 'outer', left_on='Договор',right_on='Проект договора / Договор контрагента')\n",
        "\n",
        "new_reg = new_reg[(~new_reg[fields[10]].isna()) | (~new_reg[fields[11]].isna())]\n",
        "new_reg['Срок действия'] = new_reg[[fields[10], fields[11]]].fillna('').sum(axis=1)\n",
        "upd = new_reg[~new_reg['ИНН'].isna()]\n",
        "upd = upd.rename(columns={'Контрагент_x':'Контрагент'})\n",
        "upd = upd[['Контрагент', 'ИНН', 'Плательщик НДС','Договор', 'Вид товаров / услуг / работ', 'История произведенных закупок','Срок действия',\n",
        "           'Ответственное подразделение', 'Ссылка на договор']]\n",
        "\n",
        "# Делаем данные по контрагенту и ИНН\n",
        "inn = inn[['Контрагент', 'ИНН']]\n",
        "inn = inn.drop_duplicates(subset=['ИНН'])\n",
        "\n",
        "# Заводим новые данные для реестра\n",
        "n_reg = new_reg[new_reg['ИНН'].isna()]\n",
        "n_reg = n_reg.drop_duplicates(subset=[fields[3]])\n",
        "n_reg\n",
        "n_reg = n_reg[['Контрагент_y','ИНН', 'Плательщик НДС', fields[1], fields[5], fields[6], \n",
        "               'Срок действия', 'Ответственное подразделение', 'Ссылка на договор']]\n",
        "new = n_reg.merge(inn, how = 'left', left_on='Контрагент_y', right_on='Контрагент')\n",
        "new = new[['Контрагент_y', 'ИНН_y', 'Плательщик НДС', fields[1], fields[5], fields[6], \n",
        "               'Срок действия', 'Ответственное подразделение', 'Ссылка на договор']]\n",
        "new = new.rename(columns={'Контрагент_y':'Контрагент', 'ИНН_y':'ИНН','Проект договора / Договор контрагента':'Договор', fields[5]:'Описание работ',\n",
        "                         fields[6]:'Предмет договора','Ответственное подразделение':'Подразделение-инициатор'})\n",
        "\n",
        "# Убираем лишние договоры\n",
        "exc_list = ['Договор на разработку ПО № 1-MVR от 01.06.2020']\n",
        "new = new[((new['Контрагент'] != 'ИННОПОЛИС АО') &\n",
        "          (new['Контрагент'] != 'Консультативно-диагностический центр Авиастроительного района ООО') &\n",
        "          (new['Контрагент'] != 'СТАТУС ООО')) &\n",
        "          (~new ['Договор'].isin(exc_list)) &\n",
        "          ((~new['Договор'].str.contains('Камаз')) & \n",
        "          (~new['Договор'].str.contains('ЦНТИ')) &\n",
        "          (~new['Договор'].str.contains('Конвертоплан')) &\n",
        "          (~new['Договор'].str.contains('ЦК')) &\n",
        "          (~new['Договор'].str.contains('БС'))) &\n",
        "          (new['Договор'].str.contains('2021')) &\n",
        "          (~new['Договор'].str.contains('ЛИЦ')) &\n",
        "          (~new['Договор'].str.contains('ООЦ')) &\n",
        "          (~new['Предмет договора'].str.contains('ЦНТИ')) &\n",
        "          (~new['Предмет договора'].str.contains('ИГК')) &\n",
        "          (~new['Предмет договора'].str.contains('Минпром')) &\n",
        "          (~new['Предмет договора'].str.contains('Гибдд')) &\n",
        "          (~new['Предмет договора'].str.contains('Технологии компонентов робототехники и мехатроники'))&\n",
        "          (~new['Предмет договора'].str.contains('КЛИК'))&\n",
        "          (~new['Предмет договора'].str.contains('CDO'))]\n",
        "\n",
        "new = new.rename(columns={'Описание работ':'Вид товаров / услуг / работ', 'Предмет договора':'История произведенных закупок','Подразделение-инициатор':'Ответственное подразделение'})\n",
        "new = new[['Контрагент', 'ИНН', 'Плательщик НДС', 'Договор','Вид товаров / услуг / работ','История произведенных закупок', 'Срок действия', 'Ответственное подразделение']]\n",
        "# Объединить 2 датафрейма\n",
        "fin_reg = pd.concat([upd, new])\n",
        "fin_reg.to_excel('Для реестра поставщиков.xlsx', index=False)"
      ],
      "execution_count": null,
      "outputs": []
    },
    {
      "cell_type": "markdown",
      "metadata": {
        "id": "vKqmqvqOZWXn"
      },
      "source": [
        "# ПОСЛЕ ЗАКРЫТИЯ договоров обновляем реестр покупателей"
      ]
    },
    {
      "cell_type": "code",
      "metadata": {
        "id": "vLwbs3JTZf35"
      },
      "source": [
        "import pandas as pd\n",
        "import datetime\n",
        "\n",
        "# Читаем файл выгрузки с договорами\n",
        "data = pd.read_excel(\"/content/Выгрузка договоров.xlsx\")\n",
        "data_inn = pd.read_excel(\"/content/Выгрузка всех договоров.xlsx\")\n",
        "\n",
        "type_cntr = ['Оказание услуг внешним контрагентам (доходный)']\n",
        "\n",
        "# Отбираем действующие договоры с покупателями\n",
        "data = data[(data[fields[2]].isin(type_cntr)) &\n",
        "            (data[fields[19]] == 'Исполнение')]\n",
        "\n",
        "# Убираем дубли\n",
        "data = data.drop_duplicates(subset=[fields[3]])\n",
        "\n",
        "# Читаем файл выгрузки реестра поставщиков\n",
        "cust = pd.read_excel(\"/content/Реестр покупателей.xlsx\")\n",
        "\n",
        "# Обновляем срок действия в файле\n",
        "upd_cust = cust.merge(data, how = 'outer', left_on='Договор',right_on='Проект договора / Договор контрагента')\n",
        "\n",
        "upd_cust = upd_cust[(~upd_cust['Контрагент_y'].isna())&(~upd_cust['Контрагент_x'].isna())]\n",
        "upd_cust = upd_cust[(~upd_cust[fields[10]].isna()) | (~upd_cust[fields[11]].isna())]\n",
        "upd_cust['Срок действия'] = upd_cust[[fields[10], fields[11]]].fillna('').sum(axis=1)\n",
        "upd_cust = upd_cust.rename(columns={'Контрагент_x':'Контрагент'})\n",
        "upd_cust = upd_cust[['Контрагент','ИНН','Договор', 'Вид товаров / услуг / работ', 'Предмет договора', 'Срок действия', 'Ссылка на договор']]\n",
        "\n",
        "# Делаем данные по контрагенту и ИНН\n",
        "inn = data_inn[['Контрагент', 'ИНН']]\n",
        "inn = inn.drop_duplicates(subset=['ИНН'])\n",
        "\n",
        "# Отбираем для нового реестра покупателей\n",
        "data['Срок действия'] = data[[fields[10], fields[11]]].fillna('').sum(axis=1)\n",
        "data = data[['Контрагент', fields[1], fields[5], fields[6], 'Срок действия']]\n",
        "data = data.rename(columns={fields[1]:'Договор', fields[5]:'Вид товаров / услуг / работ', fields[6]:'Предмет договора'})\n",
        "\n",
        "new = data.merge(inn, how = 'left', left_on='Контрагент', right_on='Контрагент')\n",
        "new = new[['Контрагент','ИНН','Договор', 'Вид товаров / услуг / работ', 'Предмет договора', 'Срок действия']]\n",
        "\n",
        "# Убираем лишние договоры\n",
        "new = new[(new['Контрагент'] != 'ИННОПОЛИС АО') &\n",
        "          (new['Контрагент'] != 'ПЖКХ ООО') &\n",
        "          (~new['Предмет договора'].str.contains('размещ'))&\n",
        "          (~new['Договор'].str.contains('размещ'))&\n",
        "          (~new['Предмет договора'].str.contains('аренд'))&\n",
        "          (~new['Договор'].str.contains('аренд'))&\n",
        "          (~new['Предмет договора'].str.contains('@innopolis.ru'))&\n",
        "          (~new['Договор'].str.contains('30/17 от 21.07.2017 услуги по организации, проведению и обслуживанию мероприятий'))&\n",
        "          (~new['Договор'].str.contains('Соглашение о спонсировании мероприятия от 24.04.2019'))]\n",
        "\n",
        "# Объединить 2 датафрейма\n",
        "fin_reg = pd.concat([upd_cust, new])\n",
        "\n",
        "# Добавление соглашений\n",
        "type_cntr_aggr = ['Меморандум о взаимопонимании или соглашение об академическом сотрудничестве',\n",
        "                  'Соглашение о сотрудничестве с индустриальным партнером с целью поддержки студенческих проектов',\n",
        "                  'Соглашение о сотрудничестве с индустриальным партнером с целью проведения совместных научно-исследовательских работ']\n",
        "aggr = data_inn[data_inn['Тип договора'].isin(type_cntr_aggr)]\n",
        "aggr['Срок действия_2'] = aggr[['Срок действия', 'Вид расчетов']].fillna('').sum(axis=1)\n",
        "aggr['Срок действия'] = pd.to_datetime(aggr['Срок действия'])\n",
        "aggr_toclose = aggr[aggr['Срок действия'] < datetime.datetime.today()]\n",
        "aggr_toclose.to_excel('Соглашения для закрытия.xlsx',index=False)\n",
        "aggr = aggr[(~aggr['Наименование'].isin(aggr_toclose['Наименование'])) &\n",
        "            (aggr['Стадия договора'] == 'Исполнение')]\n",
        "aggr = aggr[['Контрагент', 'ИНН', 'Наименование', 'Описание работ', 'Предмет договора', 'Срок действия_2']]\n",
        "aggr = aggr.rename(columns={'Наименование':'Договор', 'Описание работ':'Вид товаров / услуг / работ', 'Срок действия_2':'Срок действия'})\n",
        "\n",
        "# Объединить 2 датафрейма\n",
        "fin = pd.concat([fin_reg, aggr])\n",
        "fin.to_excel('Для реестра покупателей.xlsx', index=False)"
      ],
      "execution_count": null,
      "outputs": []
    },
    {
      "cell_type": "code",
      "metadata": {
        "id": "x17o3NkCeNhj"
      },
      "source": [
        ""
      ],
      "execution_count": null,
      "outputs": []
    }
  ]
}